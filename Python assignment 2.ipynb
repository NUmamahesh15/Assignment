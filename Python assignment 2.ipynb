{
 "cells": [
  {
   "cell_type": "code",
   "execution_count": 2,
   "metadata": {},
   "outputs": [
    {
     "name": "stdout",
     "output_type": "stream",
     "text": [
      "\n",
      "*\n",
      "**\n",
      "***\n",
      "****\n",
      "*****\n",
      "*****\n",
      "****\n",
      "***\n",
      "**\n",
      "*\n"
     ]
    }
   ],
   "source": [
    "# Question 1\n",
    "for i in range(0,6):\n",
    "    print(\"*\"*i)\n",
    "    if i == 5:\n",
    "        for j in range(5,0,-1):\n",
    "            print(\"*\"*j)\n",
    "    else:\n",
    "        continue"
   ]
  },
  {
   "cell_type": "code",
   "execution_count": 3,
   "metadata": {},
   "outputs": [
    {
     "name": "stdout",
     "output_type": "stream",
     "text": [
      "Please enter a word of your choice: Nithin\n",
      "Reversed word is : nihtiN\n"
     ]
    }
   ],
   "source": [
    "# Question 2\n",
    "word = input(\"Please enter a word of your choice: \")\n",
    "reversed_word = word[::-1]\n",
    "print(\"Reversed word is : \"+reversed_word)"
   ]
  },
  {
   "cell_type": "code",
   "execution_count": 66,
   "metadata": {},
   "outputs": [],
   "source": [
    "# Question 1\n",
    "\n",
    "class Triangle:\n",
    "    def __init__(self,a,b,c):\n",
    "        self.a = a\n",
    "        self.b = b\n",
    "        self.c = c\n",
    "    def __str__(self):\n",
    "        return \"The sides of the triangle are {},{} and {}\".format(self.a,self.b,self.c)\n",
    "        \n",
    "class Area(Triangle):\n",
    "    def __init__(self,*args):\n",
    "        super(Area,self).__init__(*args)\n",
    "    \n",
    "    def computeArea(self):\n",
    "        s = (self.a+self.b+self.c)/2\n",
    "        area = (s * (s-self.a) * (s-self.b) * (s-self.c)) ** 0.5\n",
    "        return area \n",
    "    def __str__(self):\n",
    "        return super(Area,self).__str__()"
   ]
  },
  {
   "cell_type": "code",
   "execution_count": 67,
   "metadata": {},
   "outputs": [],
   "source": [
    "area = Area(10,10,10)"
   ]
  },
  {
   "cell_type": "code",
   "execution_count": 68,
   "metadata": {},
   "outputs": [
    {
     "name": "stdout",
     "output_type": "stream",
     "text": [
      "The sides of the triangle are 10,10 and 10\n",
      "The Area of the triangle is :43.30127018922193\n"
     ]
    }
   ],
   "source": [
    "print(str(area))\n",
    "print(\"The Area of the triangle is :\"+ str(area.computeArea()))"
   ]
  },
  {
   "cell_type": "code",
   "execution_count": 71,
   "metadata": {},
   "outputs": [],
   "source": [
    "# Question 2\n",
    "\n",
    "def filter_long_words(words,num):\n",
    "    filtered_words = []\n",
    "    for word in words:\n",
    "        if len(word) > num:\n",
    "            filtered_words.append(word)\n",
    "        else:\n",
    "            continue\n",
    "    return filtered_words\n"
   ]
  },
  {
   "cell_type": "code",
   "execution_count": 73,
   "metadata": {},
   "outputs": [
    {
     "name": "stdout",
     "output_type": "stream",
     "text": [
      "['Nithin', 'Ineuron', 'Anaconda', 'Research']\n"
     ]
    }
   ],
   "source": [
    "list_of_words = [\"Nithin\",\"Ineuron\",\"Anaconda\",\"Hi\",\"Research\",\"Bye\",\"Taste\"]\n",
    "print(filter_long_words(list_of_words,5))"
   ]
  },
  {
   "cell_type": "code",
   "execution_count": 75,
   "metadata": {},
   "outputs": [],
   "source": [
    "# Question 3\n",
    "\n",
    "def map_words_length(list_of_words):\n",
    "    words_length = []\n",
    "    for word in list_of_words:\n",
    "        words_length.append(len(word))\n",
    "    return words_length\n"
   ]
  },
  {
   "cell_type": "code",
   "execution_count": 77,
   "metadata": {},
   "outputs": [
    {
     "name": "stdout",
     "output_type": "stream",
     "text": [
      "[6, 7, 8, 2, 8, 3, 5]\n"
     ]
    }
   ],
   "source": [
    "list_of_words = [\"Nithin\",\"Ineuron\",\"Anaconda\",\"Hi\",\"Research\",\"Bye\",\"Taste\"]\n",
    "print(map_words_length(list_of_words))"
   ]
  },
  {
   "cell_type": "code",
   "execution_count": 80,
   "metadata": {},
   "outputs": [],
   "source": [
    "# Question 4\n",
    "\n",
    "def check_vowels(char):\n",
    "    if char.lower() in (\"a\",\"e\",\"i\",\"o\",\"u\"):\n",
    "        return True\n",
    "    else:\n",
    "        return False\n",
    "    "
   ]
  },
  {
   "cell_type": "code",
   "execution_count": 84,
   "metadata": {},
   "outputs": [
    {
     "name": "stdout",
     "output_type": "stream",
     "text": [
      "False\n",
      "True\n"
     ]
    }
   ],
   "source": [
    "print(check_vowels(\"b\"))\n",
    "print(check_vowels(\"a\"))"
   ]
  }
 ],
 "metadata": {
  "kernelspec": {
   "display_name": "Python 3",
   "language": "python",
   "name": "python3"
  },
  "language_info": {
   "codemirror_mode": {
    "name": "ipython",
    "version": 3
   },
   "file_extension": ".py",
   "mimetype": "text/x-python",
   "name": "python",
   "nbconvert_exporter": "python",
   "pygments_lexer": "ipython3",
   "version": "3.7.3"
  }
 },
 "nbformat": 4,
 "nbformat_minor": 2
}
