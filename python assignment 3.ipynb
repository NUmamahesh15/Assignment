{
 "cells": [
  {
   "cell_type": "code",
   "execution_count": 1,
   "metadata": {},
   "outputs": [],
   "source": [
    "# Question1 \n",
    "\n",
    "def addValues(list1):\n",
    "  sum = 0\n",
    "  for i in list1:\n",
    "    sum = sum + i\n",
    "  \n",
    "  return sum\n",
    "  "
   ]
  },
  {
   "cell_type": "code",
   "execution_count": 2,
   "metadata": {},
   "outputs": [
    {
     "name": "stdout",
     "output_type": "stream",
     "text": [
      "28\n"
     ]
    }
   ],
   "source": [
    "print(addValues([1,2,3,4,5,6,7]))"
   ]
  },
  {
   "cell_type": "code",
   "execution_count": 3,
   "metadata": {},
   "outputs": [],
   "source": [
    "# Question2:\n",
    "\n",
    "def filterEven(list1):\n",
    "  filteredList = []\n",
    "  for i in list1:\n",
    "    if i%2==0:\n",
    "      filteredList.append(i)\n",
    "    else:\n",
    "      continue\n",
    "  return filteredList"
   ]
  },
  {
   "cell_type": "code",
   "execution_count": 4,
   "metadata": {},
   "outputs": [
    {
     "name": "stdout",
     "output_type": "stream",
     "text": [
      "Filtered even list\n",
      "[0, 2, 4, 6, 8, 10, 12, 14, 16, 18, 20, 22, 24, 26, 28]\n"
     ]
    }
   ],
   "source": [
    "list1 = [i for i in range(30)]\n",
    "print(\"Filtered even list\")\n",
    "print(str(filterEven(list1)))"
   ]
  },
  {
   "cell_type": "code",
   "execution_count": 39,
   "metadata": {},
   "outputs": [
    {
     "name": "stdout",
     "output_type": "stream",
     "text": [
      "['x', 'xx', 'xxx', 'xxxx', 'y', 'yy', 'yyy', 'yyyy', 'z', 'zz', 'zzz', 'zzzz']\n",
      "['x', 'y', 'z', 'xx', 'yy', 'zz', 'xxx', 'yyy', 'zzz', 'xxxx', 'yyyy', 'zzzz']\n",
      "[[2], [3], [4], [3], [4], [5], [4], [5], [6]][[2, 3, 4, 5], [3, 4, 5, 6], [4, 5, 6, 7], [5, 6, 7, 8]]\n",
      "[(1, 1), (2, 1), (3, 1), (1, 2), (2, 2), (3, 2), (1, 3), (2, 3), (3, 3)]\n"
     ]
    }
   ],
   "source": [
    "# Question 3:\n",
    "list1 = [val* i for val in ['x','y','z'] for i in range(1,5) ]\n",
    "list2 = [val* i for i in range(1,5) for val in ['x','y','z']]\n",
    "list3 = [[i+j] for i in range(2,5) for j in range(0,3)]\n",
    "l2 = [[i+j,i+j+1,i+j+2,i+j+3] for i in range(2,3) for j in range(0,4)]\n",
    "list4 = [(j,i) for i in range(1,4) for j in range(1,4)]\n",
    "print(list1)\n",
    "print(list2)\n",
    "print(str(list3)+\"\"+str(l2))\n",
    "print(list4)"
   ]
  }
 ],
 "metadata": {
  "kernelspec": {
   "display_name": "Python 3",
   "language": "python",
   "name": "python3"
  },
  "language_info": {
   "codemirror_mode": {
    "name": "ipython",
    "version": 3
   },
   "file_extension": ".py",
   "mimetype": "text/x-python",
   "name": "python",
   "nbconvert_exporter": "python",
   "pygments_lexer": "ipython3",
   "version": "3.7.3"
  }
 },
 "nbformat": 4,
 "nbformat_minor": 2
}
